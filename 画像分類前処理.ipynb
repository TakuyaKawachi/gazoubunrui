{
  "nbformat": 4,
  "nbformat_minor": 0,
  "metadata": {
    "colab": {
      "name": "画像分類前処理.ipynb",
      "provenance": [],
      "mount_file_id": "1uynq4Givo7PqC4_IOLfuG7gVVK8KutCD",
      "authorship_tag": "ABX9TyMuhhN3GozUlHp0ICqFngnx",
      "include_colab_link": true
    },
    "kernelspec": {
      "name": "python3",
      "display_name": "Python 3"
    }
  },
  "cells": [
    {
      "cell_type": "markdown",
      "metadata": {
        "id": "view-in-github",
        "colab_type": "text"
      },
      "source": [
        "<a href=\"https://colab.research.google.com/github/TakuyaKawachi/gazoubunrui/blob/master/%E7%94%BB%E5%83%8F%E5%88%86%E9%A1%9E%E5%89%8D%E5%87%A6%E7%90%86.ipynb\" target=\"_parent\"><img src=\"https://colab.research.google.com/assets/colab-badge.svg\" alt=\"Open In Colab\"/></a>"
      ]
    },
    {
      "cell_type": "code",
      "metadata": {
        "id": "v22PasUvZpgW",
        "colab_type": "code",
        "colab": {}
      },
      "source": [
        "import sys\n",
        "sys.path.append('/content/drive/My Drive/gazoubunrui')"
      ],
      "execution_count": 6,
      "outputs": []
    },
    {
      "cell_type": "code",
      "metadata": {
        "id": "6tnwVgXHaBbA",
        "colab_type": "code",
        "colab": {
          "base_uri": "https://localhost:8080/",
          "height": 125
        },
        "outputId": "fa20915d-dc3b-4748-e3a6-548741c0d979"
      },
      "source": [
        "import ic_module as ic\n",
        "import importlib\n",
        "importlib.reload(ic)\n",
        "import os.path as op\n",
        "\n",
        "i = 0\n",
        "for filename in ic.FileNames :\n",
        "    # ディレクトリ名入力\n",
        "    while True :\n",
        "        dirname = input(\">>「\" + ic.ClassNames[i] + \"」の画像のあるディレクトリ ： \")\n",
        "        if op.isdir(dirname) :\n",
        "            break\n",
        "        print(\">> そのディレクトリは存在しません！\")\n",
        "\n",
        "    # 関数実行\n",
        "    ic.PreProcess(dirname, filename, var_amount=3)\n",
        "    i += 1"
      ],
      "execution_count": 7,
      "outputs": [
        {
          "output_type": "stream",
          "text": [
            ">>「齋藤飛鳥」の画像のあるディレクトリ ： /content/drive/My Drive/gazoubunrui/face/saitoasuka\n",
            ">> /content/drive/My Drive/gazoubunrui/face/saitoasukaから68個のファイル読み込み成功\n",
            ">>「白石麻衣」の画像のあるディレクトリ ： /content/drive/My Drive/gazoubunrui/face/shiraishimai\n",
            ">> /content/drive/My Drive/gazoubunrui/face/shiraishimaiから44個のファイル読み込み成功\n",
            ">>「生田絵梨花」の画像のあるディレクトリ ： /content/drive/My Drive/gazoubunrui/face/ikutaerika\n",
            ">> /content/drive/My Drive/gazoubunrui/face/ikutaerikaから24個のファイル読み込み成功\n"
          ],
          "name": "stdout"
        }
      ]
    },
    {
      "cell_type": "code",
      "metadata": {
        "id": "aRPMfMCWigTN",
        "colab_type": "code",
        "colab": {}
      },
      "source": [
        ""
      ],
      "execution_count": null,
      "outputs": []
    }
  ]
}